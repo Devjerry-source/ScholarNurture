{
 "cells": [
  {
   "cell_type": "markdown",
   "metadata": {},
   "source": [
    "# Data Wrangling Task  \n",
    "#### Description\n",
    "There are two sets of files named covid* and worldwide*. Both sets of files have two  versions at two different times of the day: around 11pm and early in the morning.\n",
    "\n",
    "Task 1: Organize the files into 4 groups.\n",
    "<br> Group 1 :- covid* 11pm+\n",
    "<br> Group 2 :- world* 11pm+\n",
    "<br> Group 3 :- covid* other time\n",
    "<br> Group 4 :- world*  other time\n",
    "\n",
    "Task 2: Using Group 2, how many cases did the US and Germany each record in April?\n",
    "<br> Task 3: Using Group 3, how many cases did Italy and Russia each record in April?\n",
    "<br>File Link: ​https://drive.google.com/file/d/1lJslj1_gK2sO7ymge-Vc_rDYhP_qis43/view?usp=sharing\n",
    "<br> Submission Form: ​https://forms.gle/XLUC8fLCg34w3cyY6\n",
    "<br> You are to zip your Group 1, 2, 3, 4 and your notebooks and paste the link in this form    Note:  Ask questions for clarification where need be.\n",
    "<br>CREDIT: Paschal C. "
   ]
  },
  {
   "cell_type": "markdown",
   "metadata": {},
   "source": [
    "##### Libraries to Be Used for the Whole tasks are\n",
    "OS module - for creating a directory to store all the Files after Grouping\n",
    "<br> shutil - for moving files to other directories\n",
    "<br> Pandas - for creating DataFrames\n",
    "<br> Glob - for extracting the files from the current Directory\n",
    "<br> datetime - for converting strings to datetime objects\n"
   ]
  },
  {
   "cell_type": "code",
   "execution_count": 1,
   "metadata": {},
   "outputs": [],
   "source": [
    "%matplotlib inline\n",
    "import os\n",
    "import shutil\n",
    "import warnings\n",
    "import pandas as pd\n",
    "from glob import glob\n",
    "import datetime as date\n",
    "from datetime import datetime"
   ]
  },
  {
   "cell_type": "code",
   "execution_count": 2,
   "metadata": {},
   "outputs": [],
   "source": [
    "warnings.filterwarnings(\"ignore\")"
   ]
  },
  {
   "cell_type": "markdown",
   "metadata": {},
   "source": [
    "### TASK 1:"
   ]
  },
  {
   "cell_type": "markdown",
   "metadata": {},
   "source": [
    "In executing this Task, the following are the steps I took:\n",
    "<br> 1. Extracted all the files with suffix '.csv' into a List called covid_data,\n",
    "<br> 2. Extracted the time attributed to each covid data files and converted them to time Object for time identification,\n",
    "<br> 3. Extracted the time object that suits the different Group,\n",
    "<br> 4. Extracted all the covid data that matches the different time object into their respective file list,\n",
    "<br> 5. Defined a folderCreation() function that creates a directory and moves the respective files to the different directories.\n",
    "\n",
    "This Ends the First Task."
   ]
  },
  {
   "cell_type": "code",
   "execution_count": 3,
   "metadata": {},
   "outputs": [],
   "source": [
    "#Extracting all the csv file into a list called Covid_data\n",
    "covid_data = [files for files in glob(\"*.csv\")]\n"
   ]
  },
  {
   "cell_type": "code",
   "execution_count": 4,
   "metadata": {},
   "outputs": [
    {
     "name": "stdout",
     "output_type": "stream",
     "text": [
      "There are 181 covid-19 data files available\n"
     ]
    }
   ],
   "source": [
    "print(f'There are {len(covid_data)} covid-19 data files available')"
   ]
  },
  {
   "cell_type": "code",
   "execution_count": 5,
   "metadata": {},
   "outputs": [],
   "source": [
    "#extracting the time attribute for each files\n",
    "time_attributes = [i.split()[1].replace('.csv', '') for i in covid_data ]"
   ]
  },
  {
   "cell_type": "code",
   "execution_count": 6,
   "metadata": {},
   "outputs": [],
   "source": [
    "#Convert the time attributes to time object\n",
    "time_object = [datetime.strptime(time_str, '%H-%M-%S').time() for time_str in time_attributes]"
   ]
  },
  {
   "cell_type": "code",
   "execution_count": 7,
   "metadata": {},
   "outputs": [],
   "source": [
    "#Extracting the time that suits the two time group attribute\n",
    "eleven_plus = [i for i in time_object if i > date.time(23, 0, 0)]\n",
    "other_time = [i for i in time_object if i < date.time(23, 0, 0)]"
   ]
  },
  {
   "cell_type": "code",
   "execution_count": 8,
   "metadata": {},
   "outputs": [],
   "source": [
    "#Creating a Group List of the covid Files\n",
    "group1_files = list(set(i for i in covid_data for j in eleven_plus if i.startswith('covid') and j.strftime('%H-%M-%S') in i))\n",
    "group2_files = list(set(i for i in covid_data for j in eleven_plus if i.startswith('world') and j.strftime('%H-%M-%S') in i))\n",
    "group3_files = list(set(i for i in covid_data for j in other_time if i.startswith('covid') and j.strftime('%H-%M-%S') in i))\n",
    "group4_files = list(set(i for i in covid_data for j in other_time if i.startswith('world') and j.strftime('%H-%M-%S') in i))"
   ]
  },
  {
   "cell_type": "code",
   "execution_count": 9,
   "metadata": {},
   "outputs": [],
   "source": [
    "def folderCreation(Path, directory_name, List_of_files, num):\n",
    "    ''' \n",
    "    This function creates a directory and moves the files to their directory.\n",
    "    \n",
    "    Inputs:\n",
    "    \n",
    "    Path : the Directory where the file will be created\n",
    "    directory_name : the Name representing the Folder to be created\n",
    "    \n",
    "    List_of_files : this contains the Group of files to be Saved in the directory Created\n",
    "    num: the Group number for the file name\n",
    "    \n",
    "    '''\n",
    "    path = Path + '\\\\' + directory_name + str(num)\n",
    "    #Creating the new File Directory\n",
    "    destination = os.mkdir(path)\n",
    "    \n",
    "    #Moving the files to the new_path\n",
    "    for i in List_of_files:\n",
    "        source = os.getcwd() + '\\\\' + i\n",
    "        shutil.move(source, path)\n",
    "    \n",
    "    return path\n",
    "    "
   ]
  },
  {
   "cell_type": "markdown",
   "metadata": {},
   "source": [
    "#### Distributing the Grouped covid Files to their respective folders.\n"
   ]
  },
  {
   "cell_type": "code",
   "execution_count": 10,
   "metadata": {},
   "outputs": [
    {
     "data": {
      "text/plain": [
       "'C:\\\\Users\\\\hp 6730\\\\py_lab\\\\Pascal Challenge\\\\Group1'"
      ]
     },
     "execution_count": 10,
     "metadata": {},
     "output_type": "execute_result"
    }
   ],
   "source": [
    "group1_path = folderCreation(Path =r'C:\\Users\\hp 6730\\py_lab\\Pascal Challenge' , directory_name = 'Group', List_of_files = group1_files, num = 1)\n",
    "group1_path"
   ]
  },
  {
   "cell_type": "code",
   "execution_count": 11,
   "metadata": {
    "scrolled": true
   },
   "outputs": [
    {
     "data": {
      "text/plain": [
       "'C:\\\\Users\\\\hp 6730\\\\py_lab\\\\Pascal Challenge\\\\Group2'"
      ]
     },
     "execution_count": 11,
     "metadata": {},
     "output_type": "execute_result"
    }
   ],
   "source": [
    "group2_path = folderCreation(Path =r'C:\\Users\\hp 6730\\py_lab\\Pascal Challenge' , directory_name = 'Group', List_of_files = group2_files, num = 2)\n",
    "group2_path"
   ]
  },
  {
   "cell_type": "code",
   "execution_count": 12,
   "metadata": {},
   "outputs": [
    {
     "data": {
      "text/plain": [
       "'C:\\\\Users\\\\hp 6730\\\\py_lab\\\\Pascal Challenge\\\\Group3'"
      ]
     },
     "execution_count": 12,
     "metadata": {},
     "output_type": "execute_result"
    }
   ],
   "source": [
    "group3_path = folderCreation(Path =r'C:\\Users\\hp 6730\\py_lab\\Pascal Challenge' , directory_name = 'Group', List_of_files = group3_files, num = 3)\n",
    "group3_path"
   ]
  },
  {
   "cell_type": "code",
   "execution_count": 13,
   "metadata": {},
   "outputs": [
    {
     "data": {
      "text/plain": [
       "'C:\\\\Users\\\\hp 6730\\\\py_lab\\\\Pascal Challenge\\\\Group4'"
      ]
     },
     "execution_count": 13,
     "metadata": {},
     "output_type": "execute_result"
    }
   ],
   "source": [
    "group4_path = folderCreation(Path =r'C:\\Users\\hp 6730\\py_lab\\Pascal Challenge' , directory_name = 'Group', List_of_files = group4_files, num = 4)\n",
    "group4_path"
   ]
  },
  {
   "cell_type": "code",
   "execution_count": 14,
   "metadata": {},
   "outputs": [
    {
     "name": "stdout",
     "output_type": "stream",
     "text": [
      "Group 1 folder contains 42 covid files.\n",
      "Group 2 folder contains 43 covid files.\n",
      "Group 3 folder contains 51 covid files.\n",
      "Group 4 folder contains 45 covid files.\n"
     ]
    }
   ],
   "source": [
    "print(f'Group 1 folder contains {len(group1_files)} covid files.')\n",
    "print(f'Group 2 folder contains {len(group2_files)} covid files.')\n",
    "print(f'Group 3 folder contains {len(group3_files)} covid files.')\n",
    "print(f'Group 4 folder contains {len(group4_files)} covid files.')"
   ]
  },
  {
   "cell_type": "markdown",
   "metadata": {},
   "source": [
    "We Have successfully distributed the csv files to their various Folders as described above."
   ]
  },
  {
   "cell_type": "markdown",
   "metadata": {},
   "source": [
    "### TASK 2:"
   ]
  },
  {
   "cell_type": "markdown",
   "metadata": {},
   "source": [
    "For Task-2 we will be Using Group 2 folder to asnwer the Question;\n",
    "> <br> How many Cases did the US and Germany each record in April?"
   ]
  },
  {
   "cell_type": "markdown",
   "metadata": {},
   "source": [
    "For this Task we will be extracting the files for the Month of APRIL."
   ]
  },
  {
   "cell_type": "code",
   "execution_count": 15,
   "metadata": {},
   "outputs": [],
   "source": [
    "world_april = [i for i in group2_files if 'apr' in i.lower()]\n",
    "#Sorting the April world data list in Ascending order\n",
    "world_april.sort()"
   ]
  },
  {
   "cell_type": "markdown",
   "metadata": {},
   "source": [
    "  For this Task We are Only Concern about US and Germany's records. So it won't be necessary merging or Concatenating all the files in the directory. \n",
    "<br> In addition to that, Our Target Variable is the Number of Covid Cases in US and Germany for April, so we will be Calculating the Cases based on the Total Confirmed Today and Total Confirmed.\n"
   ]
  },
  {
   "cell_type": "markdown",
   "metadata": {},
   "source": [
    "#### DATA WRANGLING\n"
   ]
  },
  {
   "cell_type": "markdown",
   "metadata": {},
   "source": [
    "The first thing we need do is to Have an idea of How our Data looks.\n",
    "<br> We will be reading some of the Data to understand the Data we are working on."
   ]
  },
  {
   "cell_type": "code",
   "execution_count": 16,
   "metadata": {},
   "outputs": [
    {
     "data": {
      "text/html": [
       "<div>\n",
       "<style scoped>\n",
       "    .dataframe tbody tr th:only-of-type {\n",
       "        vertical-align: middle;\n",
       "    }\n",
       "\n",
       "    .dataframe tbody tr th {\n",
       "        vertical-align: top;\n",
       "    }\n",
       "\n",
       "    .dataframe thead th {\n",
       "        text-align: right;\n",
       "    }\n",
       "</style>\n",
       "<table border=\"1\" class=\"dataframe\">\n",
       "  <thead>\n",
       "    <tr style=\"text-align: right;\">\n",
       "      <th></th>\n",
       "      <th>Country</th>\n",
       "      <th>Total confirmed cases</th>\n",
       "      <th>Total deaths</th>\n",
       "      <th>Confirmed recoveries</th>\n",
       "      <th>Cases confirmed today</th>\n",
       "      <th>Deaths today</th>\n",
       "      <th>Recoveries confirmed today</th>\n",
       "    </tr>\n",
       "  </thead>\n",
       "  <tbody>\n",
       "    <tr>\n",
       "      <th>71</th>\n",
       "      <td>bulgaria</td>\n",
       "      <td>457</td>\n",
       "      <td>10</td>\n",
       "      <td>25</td>\n",
       "      <td>35</td>\n",
       "      <td>0</td>\n",
       "      <td>5</td>\n",
       "    </tr>\n",
       "    <tr>\n",
       "      <th>140</th>\n",
       "      <td>togo</td>\n",
       "      <td>39</td>\n",
       "      <td>2</td>\n",
       "      <td>17</td>\n",
       "      <td>3</td>\n",
       "      <td>0</td>\n",
       "      <td>7</td>\n",
       "    </tr>\n",
       "    <tr>\n",
       "      <th>11</th>\n",
       "      <td>netherlands</td>\n",
       "      <td>14,757</td>\n",
       "      <td>1,339</td>\n",
       "      <td>251</td>\n",
       "      <td>1,061</td>\n",
       "      <td>164</td>\n",
       "      <td>0</td>\n",
       "    </tr>\n",
       "    <tr>\n",
       "      <th>3</th>\n",
       "      <td>germany</td>\n",
       "      <td>84,794</td>\n",
       "      <td>1,107</td>\n",
       "      <td>22,440</td>\n",
       "      <td>6,813</td>\n",
       "      <td>176</td>\n",
       "      <td>3,740</td>\n",
       "    </tr>\n",
       "    <tr>\n",
       "      <th>112</th>\n",
       "      <td>guadeloupe</td>\n",
       "      <td>128</td>\n",
       "      <td>6</td>\n",
       "      <td>24</td>\n",
       "      <td>3</td>\n",
       "      <td>0</td>\n",
       "      <td>0</td>\n",
       "    </tr>\n",
       "  </tbody>\n",
       "</table>\n",
       "</div>"
      ],
      "text/plain": [
       "         Country Total confirmed cases Total deaths Confirmed recoveries  \\\n",
       "71      bulgaria                   457           10                   25   \n",
       "140         togo                    39            2                   17   \n",
       "11   netherlands                14,757        1,339                  251   \n",
       "3        germany                84,794        1,107               22,440   \n",
       "112   guadeloupe                   128            6                   24   \n",
       "\n",
       "    Cases confirmed today Deaths today Recoveries confirmed today  \n",
       "71                     35            0                          5  \n",
       "140                     3            0                          7  \n",
       "11                  1,061          164                          0  \n",
       "3                   6,813          176                      3,740  \n",
       "112                     3            0                          0  "
      ]
     },
     "execution_count": 16,
     "metadata": {},
     "output_type": "execute_result"
    }
   ],
   "source": [
    "#This is the path to Group Two Folder\n",
    "sample_file = group2_path + '\\\\'\n",
    "df = pd.read_csv(sample_file + world_april[0])\n",
    "#Extracting random samples from the covid file\n",
    "df.sample(5)"
   ]
  },
  {
   "cell_type": "code",
   "execution_count": 17,
   "metadata": {},
   "outputs": [
    {
     "data": {
      "text/html": [
       "<div>\n",
       "<style scoped>\n",
       "    .dataframe tbody tr th:only-of-type {\n",
       "        vertical-align: middle;\n",
       "    }\n",
       "\n",
       "    .dataframe tbody tr th {\n",
       "        vertical-align: top;\n",
       "    }\n",
       "\n",
       "    .dataframe thead th {\n",
       "        text-align: right;\n",
       "    }\n",
       "</style>\n",
       "<table border=\"1\" class=\"dataframe\">\n",
       "  <thead>\n",
       "    <tr style=\"text-align: right;\">\n",
       "      <th></th>\n",
       "      <th>Country</th>\n",
       "      <th>Total confirmed cases</th>\n",
       "      <th>Total deaths</th>\n",
       "      <th>Confirmed recoveries</th>\n",
       "      <th>Cases confirmed today</th>\n",
       "      <th>Deaths today</th>\n",
       "      <th>Recoveries confirmed today</th>\n",
       "    </tr>\n",
       "  </thead>\n",
       "  <tbody>\n",
       "    <tr>\n",
       "      <th>121</th>\n",
       "      <td>trinidad-and-tobago</td>\n",
       "      <td>98</td>\n",
       "      <td>6</td>\n",
       "      <td>1</td>\n",
       "      <td>4</td>\n",
       "      <td>1</td>\n",
       "      <td>0</td>\n",
       "    </tr>\n",
       "    <tr>\n",
       "      <th>139</th>\n",
       "      <td>togo</td>\n",
       "      <td>40</td>\n",
       "      <td>3</td>\n",
       "      <td>17</td>\n",
       "      <td>1</td>\n",
       "      <td>1</td>\n",
       "      <td>0</td>\n",
       "    </tr>\n",
       "    <tr>\n",
       "      <th>167</th>\n",
       "      <td>curaçao</td>\n",
       "      <td>11</td>\n",
       "      <td>1</td>\n",
       "      <td>3</td>\n",
       "      <td>0</td>\n",
       "      <td>0</td>\n",
       "      <td>0</td>\n",
       "    </tr>\n",
       "    <tr>\n",
       "      <th>85</th>\n",
       "      <td>réunion</td>\n",
       "      <td>321</td>\n",
       "      <td>0</td>\n",
       "      <td>40</td>\n",
       "      <td>13</td>\n",
       "      <td>0</td>\n",
       "      <td>0</td>\n",
       "    </tr>\n",
       "    <tr>\n",
       "      <th>84</th>\n",
       "      <td>taiwan</td>\n",
       "      <td>348</td>\n",
       "      <td>5</td>\n",
       "      <td>50</td>\n",
       "      <td>9</td>\n",
       "      <td>0</td>\n",
       "      <td>0</td>\n",
       "    </tr>\n",
       "  </tbody>\n",
       "</table>\n",
       "</div>"
      ],
      "text/plain": [
       "                 Country Total confirmed cases Total deaths  \\\n",
       "121  trinidad-and-tobago                    98            6   \n",
       "139                 togo                    40            3   \n",
       "167              curaçao                    11            1   \n",
       "85               réunion                   321            0   \n",
       "84                taiwan                   348            5   \n",
       "\n",
       "    Confirmed recoveries Cases confirmed today Deaths today  \\\n",
       "121                    1                     4            1   \n",
       "139                   17                     1            1   \n",
       "167                    3                     0            0   \n",
       "85                    40                    13            0   \n",
       "84                    50                     9            0   \n",
       "\n",
       "    Recoveries confirmed today  \n",
       "121                          0  \n",
       "139                          0  \n",
       "167                          0  \n",
       "85                           0  \n",
       "84                           0  "
      ]
     },
     "execution_count": 17,
     "metadata": {},
     "output_type": "execute_result"
    }
   ],
   "source": [
    "#This is the path to Group Two Folder\n",
    "sample_file = group2_path + '\\\\'\n",
    "df = pd.read_csv(sample_file + world_april[1])\n",
    "#Extracting random samples from the covid file\n",
    "df.sample(5)"
   ]
  },
  {
   "cell_type": "code",
   "execution_count": 18,
   "metadata": {},
   "outputs": [
    {
     "data": {
      "text/plain": [
       "Country                       object\n",
       "Total confirmed cases         object\n",
       "Total deaths                  object\n",
       "Confirmed recoveries          object\n",
       "Cases confirmed today         object\n",
       "Deaths today                  object\n",
       "Recoveries confirmed today    object\n",
       "dtype: object"
      ]
     },
     "execution_count": 18,
     "metadata": {},
     "output_type": "execute_result"
    }
   ],
   "source": [
    "df.dtypes"
   ]
  },
  {
   "cell_type": "code",
   "execution_count": 19,
   "metadata": {},
   "outputs": [
    {
     "data": {
      "text/html": [
       "<div>\n",
       "<style scoped>\n",
       "    .dataframe tbody tr th:only-of-type {\n",
       "        vertical-align: middle;\n",
       "    }\n",
       "\n",
       "    .dataframe tbody tr th {\n",
       "        vertical-align: top;\n",
       "    }\n",
       "\n",
       "    .dataframe thead th {\n",
       "        text-align: right;\n",
       "    }\n",
       "</style>\n",
       "<table border=\"1\" class=\"dataframe\">\n",
       "  <thead>\n",
       "    <tr style=\"text-align: right;\">\n",
       "      <th></th>\n",
       "      <th>Country</th>\n",
       "      <th>Total confirmed</th>\n",
       "      <th>Total_confirmed_today</th>\n",
       "      <th>Total_deaths</th>\n",
       "      <th>Total_deaths_today</th>\n",
       "      <th>Total_Recoveries</th>\n",
       "      <th>Total_Recoveries_today</th>\n",
       "      <th>Active_confirmed</th>\n",
       "      <th>Critical</th>\n",
       "      <th>Mortality_close</th>\n",
       "      <th>Mortality_confirmed</th>\n",
       "      <th>Total_tests</th>\n",
       "      <th>Total_tests_today</th>\n",
       "    </tr>\n",
       "  </thead>\n",
       "  <tbody>\n",
       "    <tr>\n",
       "      <th>0</th>\n",
       "      <td>united-states</td>\n",
       "      <td>643,508</td>\n",
       "      <td>31,431</td>\n",
       "      <td>28,506</td>\n",
       "      <td>2,518</td>\n",
       "      <td>48,679</td>\n",
       "      <td>10,004</td>\n",
       "      <td>566,323</td>\n",
       "      <td>13,487 (2%)</td>\n",
       "      <td>566,323</td>\n",
       "      <td>4%</td>\n",
       "      <td>3,258,424</td>\n",
       "      <td>193,405</td>\n",
       "    </tr>\n",
       "    <tr>\n",
       "      <th>1</th>\n",
       "      <td>spain</td>\n",
       "      <td>177,644</td>\n",
       "      <td>3,584</td>\n",
       "      <td>18,708</td>\n",
       "      <td>453</td>\n",
       "      <td>70,853</td>\n",
       "      <td>3,349</td>\n",
       "      <td>88,083</td>\n",
       "      <td>7,371 (8%)</td>\n",
       "      <td>88,083</td>\n",
       "      <td>11%</td>\n",
       "      <td>650,755</td>\n",
       "      <td>50,755</td>\n",
       "    </tr>\n",
       "    <tr>\n",
       "      <th>2</th>\n",
       "      <td>italy</td>\n",
       "      <td>165,155</td>\n",
       "      <td>2,667</td>\n",
       "      <td>21,645</td>\n",
       "      <td>578</td>\n",
       "      <td>38,092</td>\n",
       "      <td>962</td>\n",
       "      <td>105,418</td>\n",
       "      <td>3,079 (3%)</td>\n",
       "      <td>105,418</td>\n",
       "      <td>13%</td>\n",
       "      <td>1,117,404</td>\n",
       "      <td>43,715</td>\n",
       "    </tr>\n",
       "    <tr>\n",
       "      <th>3</th>\n",
       "      <td>france</td>\n",
       "      <td>147,863</td>\n",
       "      <td>4,560</td>\n",
       "      <td>17,167</td>\n",
       "      <td>1,438</td>\n",
       "      <td>30,955</td>\n",
       "      <td>2,150</td>\n",
       "      <td>99,741</td>\n",
       "      <td>6,457 (6%)</td>\n",
       "      <td>99,741</td>\n",
       "      <td>12%</td>\n",
       "      <td>333,807</td>\n",
       "      <td>0</td>\n",
       "    </tr>\n",
       "    <tr>\n",
       "      <th>4</th>\n",
       "      <td>germany</td>\n",
       "      <td>134,753</td>\n",
       "      <td>2,543</td>\n",
       "      <td>3,804</td>\n",
       "      <td>309</td>\n",
       "      <td>72,600</td>\n",
       "      <td>4,400</td>\n",
       "      <td>58,349</td>\n",
       "      <td>4,288 (7%)</td>\n",
       "      <td>58,349</td>\n",
       "      <td>3%</td>\n",
       "      <td>1,728,357</td>\n",
       "      <td>410,470</td>\n",
       "    </tr>\n",
       "  </tbody>\n",
       "</table>\n",
       "</div>"
      ],
      "text/plain": [
       "         Country Total confirmed Total_confirmed_today Total_deaths  \\\n",
       "0  united-states         643,508                31,431       28,506   \n",
       "1          spain         177,644                 3,584       18,708   \n",
       "2          italy         165,155                 2,667       21,645   \n",
       "3         france         147,863                 4,560       17,167   \n",
       "4        germany         134,753                 2,543        3,804   \n",
       "\n",
       "  Total_deaths_today Total_Recoveries Total_Recoveries_today Active_confirmed  \\\n",
       "0              2,518           48,679                 10,004          566,323   \n",
       "1                453           70,853                  3,349           88,083   \n",
       "2                578           38,092                    962          105,418   \n",
       "3              1,438           30,955                  2,150           99,741   \n",
       "4                309           72,600                  4,400           58,349   \n",
       "\n",
       "      Critical Mortality_close Mortality_confirmed Total_tests  \\\n",
       "0  13,487 (2%)         566,323                  4%   3,258,424   \n",
       "1   7,371 (8%)          88,083                 11%     650,755   \n",
       "2   3,079 (3%)         105,418                 13%   1,117,404   \n",
       "3   6,457 (6%)          99,741                 12%     333,807   \n",
       "4   4,288 (7%)          58,349                  3%   1,728,357   \n",
       "\n",
       "  Total_tests_today  \n",
       "0           193,405  \n",
       "1            50,755  \n",
       "2            43,715  \n",
       "3                 0  \n",
       "4           410,470  "
      ]
     },
     "execution_count": 19,
     "metadata": {},
     "output_type": "execute_result"
    }
   ],
   "source": [
    "#This is the path to Group Two Folder\n",
    "sample_file = group2_path + '\\\\'\n",
    "df = pd.read_csv(sample_file + world_april[8])\n",
    "#Extracting random samples from the covid file\n",
    "df.head()"
   ]
  },
  {
   "cell_type": "code",
   "execution_count": 20,
   "metadata": {},
   "outputs": [
    {
     "data": {
      "text/plain": [
       "Country                   object\n",
       "Total confirmed           object\n",
       "Total_confirmed_today     object\n",
       "Total_deaths              object\n",
       "Total_deaths_today        object\n",
       "Total_Recoveries          object\n",
       "Total_Recoveries_today    object\n",
       "Active_confirmed          object\n",
       "Critical                  object\n",
       "Mortality_close           object\n",
       "Mortality_confirmed       object\n",
       "Total_tests               object\n",
       "Total_tests_today         object\n",
       "dtype: object"
      ]
     },
     "execution_count": 20,
     "metadata": {},
     "output_type": "execute_result"
    }
   ],
   "source": [
    "df.dtypes"
   ]
  },
  {
   "cell_type": "markdown",
   "metadata": {},
   "source": [
    "#### Data Cleaning\n",
    "Observing all that was done in the last Five Cells, we will need to do the following task before going into the main Task. These tasks are;\n",
    "<br> * We need to Extract the Country and the Total confirmed today columns into a list from each World wide April Datasets\n",
    "<br> * We will also need to rename the Total confirmed today column because of the variation in the Name of the Column in the different csv files\n",
    "<br> * We need to convert the Total confirmed today to an integer data type for computation\n",
    "<br> * Also need to concatenate the extracted DataFrames to a DataFrame\n",
    "Taking a Look at the data types, we can see that the Dataframe contains strings,"
   ]
  },
  {
   "cell_type": "code",
   "execution_count": 21,
   "metadata": {},
   "outputs": [],
   "source": [
    "def DataFrameExtraction(datasets, country, source):\n",
    "    '''\n",
    "    This function accepts\n",
    "    datasets : A list of the April Covid data captured at 23pm+\n",
    "    country : The country of Interest which is either United States of Geremany\n",
    "    source : The path of the directory where the datasets are stored\n",
    "    \n",
    "    and,\n",
    "    Returns:\n",
    "    A Concatenated DataFrame of all the DataFrame with Clean data\n",
    "    \n",
    "    '''\n",
    "    global country_record\n",
    "    \n",
    "    country_record = []\n",
    "    path = source + '\\\\'\n",
    "    \n",
    "    for datum in datasets:\n",
    "        #Reading the csv file\n",
    "        df = pd.read_csv(path + datum)\n",
    "        #converting the Column names to lower case and also replacing spaces with '_'\n",
    "        df.columns = [i.lower().replace(' ', '_') for i in df.columns]\n",
    "        #selecting the Country of Choice\n",
    "        df = df[df['country'] == country]\n",
    "        #Since our target Variable has two Possible Names Total confirmed today cases confirmed today,\n",
    "        #We will use a try and except clause\n",
    "        try:\n",
    "            df = df[['country', 'cases_confirmed_today', 'total_confirmed_cases']]\n",
    "            #creating a date column from date specified in the csv file name\n",
    "            df['date'] = datum.split()[0].split('_')[1]\n",
    "            country_record.append(df)\n",
    "        except:\n",
    "            df = df[['country', 'total_confirmed_today','total_confirmed']]\n",
    "            #creating a date column from date specified in the csv file name\n",
    "            df['date'] = datum.split()[0].split('_')[1]\n",
    "            #Renaming the column names to be in the same text format\n",
    "            df.columns = ['country', 'cases_confirmed_today', 'total_confirmed_cases', 'date']\n",
    "            country_record.append(df)\n",
    "            \n",
    "    #Concatenating the data frames, reseting the index and also dropping previous indexing\n",
    "    c_df = pd.concat(country_record).reset_index(drop = True)\n",
    "    \n",
    "    #Seting the date column to be the index\n",
    "    c_df = c_df.set_index('date')\n",
    "    #Converting the cases_confirmed_today to integers and also removing ',' from the values to enable calculation\n",
    "    c_df['total_confirmed_cases'] = [int(value.replace(',','')) for value in c_df['total_confirmed_cases']]\n",
    "    c_df['cases_confirmed_today'] = [int(value.replace(',','')) for value in c_df['cases_confirmed_today']]\n",
    "                                         \n",
    "    return c_df"
   ]
  },
  {
   "cell_type": "markdown",
   "metadata": {},
   "source": [
    "###### How many Cases did the US and Germany each record in April?\n"
   ]
  },
  {
   "cell_type": "markdown",
   "metadata": {},
   "source": [
    "We will have to Concatenate United-states and USA which are specified under country columns since they are referring to the same US as it was referred to as in the Task.\n",
    "<br> After Creating the DataFrame, to answer the Main Task Questions;\n",
    "<br> We will have to extract the Maximum value, since the Total confirmed cases column is cummulative and the first Entry made for the month of April and subtract the first entry from the Max (which represents the last entry for the month) Value for US while for Germany we will find the Max Value and Minimum Value of the Total confirmed cases and Subtract the Minimum value from the Maximum value to get the Total Number of Cases for the Month of April for Germany."
   ]
  },
  {
   "cell_type": "code",
   "execution_count": 22,
   "metadata": {},
   "outputs": [],
   "source": [
    "#US DataFrame\n",
    "US_df = DataFrameExtraction(datasets = world_april, country = 'united-states', source = group2_path)\n",
    "USA_df = DataFrameExtraction(datasets = world_april, country = 'USA', source = group2_path)\n",
    "#Concatenating US and USA since they both seem to represent US\n",
    "US = pd.concat([US_df, USA_df])\n",
    "#This sorts the DataFrame by the date the data was recorded\n",
    "US = US.sort_index()"
   ]
  },
  {
   "cell_type": "code",
   "execution_count": 23,
   "metadata": {},
   "outputs": [],
   "source": [
    "#GERMANY DataFrame\n",
    "GM_df = DataFrameExtraction(datasets = world_april, country = 'germany', source = group2_path)"
   ]
  },
  {
   "cell_type": "code",
   "execution_count": 24,
   "metadata": {},
   "outputs": [
    {
     "data": {
      "text/html": [
       "<div>\n",
       "<style scoped>\n",
       "    .dataframe tbody tr th:only-of-type {\n",
       "        vertical-align: middle;\n",
       "    }\n",
       "\n",
       "    .dataframe tbody tr th {\n",
       "        vertical-align: top;\n",
       "    }\n",
       "\n",
       "    .dataframe thead th {\n",
       "        text-align: right;\n",
       "    }\n",
       "</style>\n",
       "<table border=\"1\" class=\"dataframe\">\n",
       "  <thead>\n",
       "    <tr style=\"text-align: right;\">\n",
       "      <th></th>\n",
       "      <th>country</th>\n",
       "      <th>cases_confirmed_today</th>\n",
       "      <th>total_confirmed_cases</th>\n",
       "    </tr>\n",
       "    <tr>\n",
       "      <th>date</th>\n",
       "      <th></th>\n",
       "      <th></th>\n",
       "      <th></th>\n",
       "    </tr>\n",
       "  </thead>\n",
       "  <tbody>\n",
       "    <tr>\n",
       "      <th>02-Apr-2020</th>\n",
       "      <td>united-states</td>\n",
       "      <td>28260</td>\n",
       "      <td>242899</td>\n",
       "    </tr>\n",
       "    <tr>\n",
       "      <th>03-Apr-2020</th>\n",
       "      <td>united-states</td>\n",
       "      <td>31263</td>\n",
       "      <td>275493</td>\n",
       "    </tr>\n",
       "    <tr>\n",
       "      <th>04-Apr-2020</th>\n",
       "      <td>united-states</td>\n",
       "      <td>31643</td>\n",
       "      <td>308608</td>\n",
       "    </tr>\n",
       "    <tr>\n",
       "      <th>07-Apr-2020</th>\n",
       "      <td>USA</td>\n",
       "      <td>1</td>\n",
       "      <td>166</td>\n",
       "    </tr>\n",
       "    <tr>\n",
       "      <th>07-Apr-2020</th>\n",
       "      <td>USA</td>\n",
       "      <td>41</td>\n",
       "      <td>164</td>\n",
       "    </tr>\n",
       "  </tbody>\n",
       "</table>\n",
       "</div>"
      ],
      "text/plain": [
       "                   country  cases_confirmed_today  total_confirmed_cases\n",
       "date                                                                    \n",
       "02-Apr-2020  united-states                  28260                 242899\n",
       "03-Apr-2020  united-states                  31263                 275493\n",
       "04-Apr-2020  united-states                  31643                 308608\n",
       "07-Apr-2020            USA                      1                    166\n",
       "07-Apr-2020            USA                     41                    164"
      ]
     },
     "execution_count": 24,
     "metadata": {},
     "output_type": "execute_result"
    }
   ],
   "source": [
    "US.head()"
   ]
  },
  {
   "cell_type": "code",
   "execution_count": 25,
   "metadata": {},
   "outputs": [
    {
     "data": {
      "text/html": [
       "<div>\n",
       "<style scoped>\n",
       "    .dataframe tbody tr th:only-of-type {\n",
       "        vertical-align: middle;\n",
       "    }\n",
       "\n",
       "    .dataframe tbody tr th {\n",
       "        vertical-align: top;\n",
       "    }\n",
       "\n",
       "    .dataframe thead th {\n",
       "        text-align: right;\n",
       "    }\n",
       "</style>\n",
       "<table border=\"1\" class=\"dataframe\">\n",
       "  <thead>\n",
       "    <tr style=\"text-align: right;\">\n",
       "      <th></th>\n",
       "      <th>country</th>\n",
       "      <th>cases_confirmed_today</th>\n",
       "      <th>total_confirmed_cases</th>\n",
       "    </tr>\n",
       "    <tr>\n",
       "      <th>date</th>\n",
       "      <th></th>\n",
       "      <th></th>\n",
       "      <th></th>\n",
       "    </tr>\n",
       "  </thead>\n",
       "  <tbody>\n",
       "    <tr>\n",
       "      <th>02-Apr-2020</th>\n",
       "      <td>germany</td>\n",
       "      <td>6813</td>\n",
       "      <td>84794</td>\n",
       "    </tr>\n",
       "    <tr>\n",
       "      <th>03-Apr-2020</th>\n",
       "      <td>germany</td>\n",
       "      <td>6365</td>\n",
       "      <td>91159</td>\n",
       "    </tr>\n",
       "    <tr>\n",
       "      <th>04-Apr-2020</th>\n",
       "      <td>germany</td>\n",
       "      <td>4933</td>\n",
       "      <td>96092</td>\n",
       "    </tr>\n",
       "    <tr>\n",
       "      <th>13-Apr-2020</th>\n",
       "      <td>germany</td>\n",
       "      <td>2218</td>\n",
       "      <td>130072</td>\n",
       "    </tr>\n",
       "    <tr>\n",
       "      <th>14-Apr-2020</th>\n",
       "      <td>germany</td>\n",
       "      <td>2138</td>\n",
       "      <td>132210</td>\n",
       "    </tr>\n",
       "  </tbody>\n",
       "</table>\n",
       "</div>"
      ],
      "text/plain": [
       "             country  cases_confirmed_today  total_confirmed_cases\n",
       "date                                                              \n",
       "02-Apr-2020  germany                   6813                  84794\n",
       "03-Apr-2020  germany                   6365                  91159\n",
       "04-Apr-2020  germany                   4933                  96092\n",
       "13-Apr-2020  germany                   2218                 130072\n",
       "14-Apr-2020  germany                   2138                 132210"
      ]
     },
     "execution_count": 25,
     "metadata": {},
     "output_type": "execute_result"
    }
   ],
   "source": [
    "GM_df.head()"
   ]
  },
  {
   "cell_type": "code",
   "execution_count": 26,
   "metadata": {},
   "outputs": [
    {
     "name": "stdout",
     "output_type": "stream",
     "text": [
      "Total Covid Cases Recorded for US for the Month of April is 851,822\n",
      "Total Covid Cases Recorded for Germany for the Month of April is 78,215\n",
      "\n",
      "Total Covid Cases Recorded per day for US in the Month of April is 819,708\n",
      "Total Covid Cases Recorded per day for Germany in the Month of April is 45,008\n"
     ]
    }
   ],
   "source": [
    "#the index 0 represents the first date recorded in April and index 2 represents the total_confirmed_cases corresponding to that date\n",
    "US_April_cases = US['total_confirmed_cases'].max() - US.iloc[0, 2]\n",
    "GM_April_cases = GM_df['total_confirmed_cases'].max() - GM_df['total_confirmed_cases'].min()\n",
    "print(f'Total Covid Cases Recorded for US for the Month of April is {US_April_cases:,}')\n",
    "print(f'Total Covid Cases Recorded for Germany for the Month of April is {GM_April_cases:,}')\n",
    "\n",
    "US_daily_cases = US['cases_confirmed_today'].sum()\n",
    "GM_daily_cases = GM_df['cases_confirmed_today'].sum()\n",
    "print()\n",
    "\n",
    "print(f'Total Covid Cases Recorded per day for US in the Month of April is {US_daily_cases:,}')\n",
    "print(f'Total Covid Cases Recorded per day for Germany in the Month of April is {GM_daily_cases:,}')"
   ]
  },
  {
   "cell_type": "markdown",
   "metadata": {},
   "source": [
    "#### TASK 2.\n",
    "> <br> How many cases did Italy and Russia each record in April?"
   ]
  },
  {
   "cell_type": "code",
   "execution_count": 27,
   "metadata": {},
   "outputs": [],
   "source": [
    "#Extracting Group 3 files for covid April data\n",
    "covid_april = [i for i in group3_files if 'apr' in i.lower()]\n",
    "#Sorting the April world data list in Ascending order\n",
    "covid_april.sort()"
   ]
  },
  {
   "cell_type": "markdown",
   "metadata": {},
   "source": [
    "Reading a Sample file for us to see the Data Format."
   ]
  },
  {
   "cell_type": "code",
   "execution_count": 28,
   "metadata": {},
   "outputs": [
    {
     "data": {
      "text/html": [
       "<div>\n",
       "<style scoped>\n",
       "    .dataframe tbody tr th:only-of-type {\n",
       "        vertical-align: middle;\n",
       "    }\n",
       "\n",
       "    .dataframe tbody tr th {\n",
       "        vertical-align: top;\n",
       "    }\n",
       "\n",
       "    .dataframe thead th {\n",
       "        text-align: right;\n",
       "    }\n",
       "</style>\n",
       "<table border=\"1\" class=\"dataframe\">\n",
       "  <thead>\n",
       "    <tr style=\"text-align: right;\">\n",
       "      <th></th>\n",
       "      <th>countries</th>\n",
       "      <th>infected</th>\n",
       "      <th>deaths</th>\n",
       "      <th>recovered</th>\n",
       "      <th>active</th>\n",
       "      <th>death_rate</th>\n",
       "      <th>recovery_rate</th>\n",
       "    </tr>\n",
       "  </thead>\n",
       "  <tbody>\n",
       "    <tr>\n",
       "      <th>0</th>\n",
       "      <td>United States</td>\n",
       "      <td>244190</td>\n",
       "      <td>5883</td>\n",
       "      <td>10400</td>\n",
       "      <td>227907</td>\n",
       "      <td>2.4</td>\n",
       "      <td>4.3</td>\n",
       "    </tr>\n",
       "    <tr>\n",
       "      <th>1</th>\n",
       "      <td>Italy</td>\n",
       "      <td>115242</td>\n",
       "      <td>13915</td>\n",
       "      <td>18278</td>\n",
       "      <td>83049</td>\n",
       "      <td>12.1</td>\n",
       "      <td>15.9</td>\n",
       "    </tr>\n",
       "    <tr>\n",
       "      <th>2</th>\n",
       "      <td>Spain</td>\n",
       "      <td>112065</td>\n",
       "      <td>10348</td>\n",
       "      <td>26743</td>\n",
       "      <td>74974</td>\n",
       "      <td>9.2</td>\n",
       "      <td>23.9</td>\n",
       "    </tr>\n",
       "    <tr>\n",
       "      <th>3</th>\n",
       "      <td>Germany</td>\n",
       "      <td>84794</td>\n",
       "      <td>1107</td>\n",
       "      <td>22440</td>\n",
       "      <td>61247</td>\n",
       "      <td>1.3</td>\n",
       "      <td>26.5</td>\n",
       "    </tr>\n",
       "    <tr>\n",
       "      <th>4</th>\n",
       "      <td>China</td>\n",
       "      <td>82413</td>\n",
       "      <td>3322</td>\n",
       "      <td>76546</td>\n",
       "      <td>2545</td>\n",
       "      <td>4.0</td>\n",
       "      <td>92.9</td>\n",
       "    </tr>\n",
       "  </tbody>\n",
       "</table>\n",
       "</div>"
      ],
      "text/plain": [
       "       countries  infected  deaths  recovered  active  death_rate  \\\n",
       "0  United States    244190    5883      10400  227907         2.4   \n",
       "1          Italy    115242   13915      18278   83049        12.1   \n",
       "2          Spain    112065   10348      26743   74974         9.2   \n",
       "3        Germany     84794    1107      22440   61247         1.3   \n",
       "4          China     82413    3322      76546    2545         4.0   \n",
       "\n",
       "   recovery_rate  \n",
       "0            4.3  \n",
       "1           15.9  \n",
       "2           23.9  \n",
       "3           26.5  \n",
       "4           92.9  "
      ]
     },
     "execution_count": 28,
     "metadata": {},
     "output_type": "execute_result"
    }
   ],
   "source": [
    "df = pd.read_csv(group3_path + '\\\\'+ covid_april[0])\n",
    "df.head()"
   ]
  },
  {
   "cell_type": "code",
   "execution_count": 29,
   "metadata": {},
   "outputs": [
    {
     "data": {
      "text/html": [
       "<div>\n",
       "<style scoped>\n",
       "    .dataframe tbody tr th:only-of-type {\n",
       "        vertical-align: middle;\n",
       "    }\n",
       "\n",
       "    .dataframe tbody tr th {\n",
       "        vertical-align: top;\n",
       "    }\n",
       "\n",
       "    .dataframe thead th {\n",
       "        text-align: right;\n",
       "    }\n",
       "</style>\n",
       "<table border=\"1\" class=\"dataframe\">\n",
       "  <thead>\n",
       "    <tr style=\"text-align: right;\">\n",
       "      <th></th>\n",
       "      <th>countries</th>\n",
       "      <th>infected</th>\n",
       "      <th>infected_today</th>\n",
       "      <th>deaths</th>\n",
       "      <th>deaths_today</th>\n",
       "      <th>recovered</th>\n",
       "      <th>recovered_today</th>\n",
       "      <th>active</th>\n",
       "      <th>critical</th>\n",
       "      <th>tests</th>\n",
       "      <th>death_rate</th>\n",
       "      <th>recovery_rate</th>\n",
       "    </tr>\n",
       "  </thead>\n",
       "  <tbody>\n",
       "    <tr>\n",
       "      <th>0</th>\n",
       "      <td>United States</td>\n",
       "      <td>369522</td>\n",
       "      <td>2916</td>\n",
       "      <td>11013</td>\n",
       "      <td>154</td>\n",
       "      <td>19874</td>\n",
       "      <td>301</td>\n",
       "      <td>338635</td>\n",
       "      <td>9015</td>\n",
       "      <td>1942470</td>\n",
       "      <td>3.0</td>\n",
       "      <td>5.4</td>\n",
       "    </tr>\n",
       "    <tr>\n",
       "      <th>1</th>\n",
       "      <td>Spain</td>\n",
       "      <td>140510</td>\n",
       "      <td>3835</td>\n",
       "      <td>13798</td>\n",
       "      <td>457</td>\n",
       "      <td>43208</td>\n",
       "      <td>2771</td>\n",
       "      <td>83504</td>\n",
       "      <td>7069</td>\n",
       "      <td>355000</td>\n",
       "      <td>9.8</td>\n",
       "      <td>30.8</td>\n",
       "    </tr>\n",
       "    <tr>\n",
       "      <th>2</th>\n",
       "      <td>Italy</td>\n",
       "      <td>132547</td>\n",
       "      <td>0</td>\n",
       "      <td>16523</td>\n",
       "      <td>0</td>\n",
       "      <td>22837</td>\n",
       "      <td>0</td>\n",
       "      <td>93187</td>\n",
       "      <td>3898</td>\n",
       "      <td>721732</td>\n",
       "      <td>12.5</td>\n",
       "      <td>17.2</td>\n",
       "    </tr>\n",
       "    <tr>\n",
       "      <th>3</th>\n",
       "      <td>Germany</td>\n",
       "      <td>104199</td>\n",
       "      <td>825</td>\n",
       "      <td>1842</td>\n",
       "      <td>32</td>\n",
       "      <td>36081</td>\n",
       "      <td>7381</td>\n",
       "      <td>66276</td>\n",
       "      <td>4895</td>\n",
       "      <td>918460</td>\n",
       "      <td>1.8</td>\n",
       "      <td>34.6</td>\n",
       "    </tr>\n",
       "    <tr>\n",
       "      <th>4</th>\n",
       "      <td>France</td>\n",
       "      <td>98010</td>\n",
       "      <td>0</td>\n",
       "      <td>8911</td>\n",
       "      <td>0</td>\n",
       "      <td>17250</td>\n",
       "      <td>0</td>\n",
       "      <td>71849</td>\n",
       "      <td>7072</td>\n",
       "      <td>224254</td>\n",
       "      <td>9.1</td>\n",
       "      <td>17.6</td>\n",
       "    </tr>\n",
       "  </tbody>\n",
       "</table>\n",
       "</div>"
      ],
      "text/plain": [
       "       countries  infected  infected_today  deaths  deaths_today  recovered  \\\n",
       "0  United States    369522            2916   11013           154      19874   \n",
       "1          Spain    140510            3835   13798           457      43208   \n",
       "2          Italy    132547               0   16523             0      22837   \n",
       "3        Germany    104199             825    1842            32      36081   \n",
       "4         France     98010               0    8911             0      17250   \n",
       "\n",
       "   recovered_today  active  critical    tests  death_rate  recovery_rate  \n",
       "0              301  338635      9015  1942470         3.0            5.4  \n",
       "1             2771   83504      7069   355000         9.8           30.8  \n",
       "2                0   93187      3898   721732        12.5           17.2  \n",
       "3             7381   66276      4895   918460         1.8           34.6  \n",
       "4                0   71849      7072   224254         9.1           17.6  "
      ]
     },
     "execution_count": 29,
     "metadata": {},
     "output_type": "execute_result"
    }
   ],
   "source": [
    "df = pd.read_csv(group3_path + '\\\\'+ covid_april[5])\n",
    "df.head()"
   ]
  },
  {
   "cell_type": "code",
   "execution_count": 30,
   "metadata": {},
   "outputs": [
    {
     "data": {
      "text/html": [
       "<div>\n",
       "<style scoped>\n",
       "    .dataframe tbody tr th:only-of-type {\n",
       "        vertical-align: middle;\n",
       "    }\n",
       "\n",
       "    .dataframe tbody tr th {\n",
       "        vertical-align: top;\n",
       "    }\n",
       "\n",
       "    .dataframe thead th {\n",
       "        text-align: right;\n",
       "    }\n",
       "</style>\n",
       "<table border=\"1\" class=\"dataframe\">\n",
       "  <thead>\n",
       "    <tr style=\"text-align: right;\">\n",
       "      <th></th>\n",
       "      <th>countries</th>\n",
       "      <th>infected</th>\n",
       "      <th>infected_today</th>\n",
       "      <th>deaths</th>\n",
       "      <th>deaths_today</th>\n",
       "      <th>recovered</th>\n",
       "      <th>recovered_today</th>\n",
       "      <th>active</th>\n",
       "      <th>critical</th>\n",
       "      <th>tests</th>\n",
       "      <th>death_rate</th>\n",
       "      <th>recovery_rate</th>\n",
       "    </tr>\n",
       "  </thead>\n",
       "  <tbody>\n",
       "    <tr>\n",
       "      <th>0</th>\n",
       "      <td>United States</td>\n",
       "      <td>469369</td>\n",
       "      <td>2400</td>\n",
       "      <td>16709</td>\n",
       "      <td>73</td>\n",
       "      <td>25937</td>\n",
       "      <td>621</td>\n",
       "      <td>426723</td>\n",
       "      <td>10011</td>\n",
       "      <td>2379512</td>\n",
       "      <td>3.6</td>\n",
       "      <td>5.5</td>\n",
       "    </tr>\n",
       "    <tr>\n",
       "      <th>1</th>\n",
       "      <td>Spain</td>\n",
       "      <td>157022</td>\n",
       "      <td>3800</td>\n",
       "      <td>15843</td>\n",
       "      <td>396</td>\n",
       "      <td>55668</td>\n",
       "      <td>3503</td>\n",
       "      <td>85511</td>\n",
       "      <td>7371</td>\n",
       "      <td>355000</td>\n",
       "      <td>10.1</td>\n",
       "      <td>35.5</td>\n",
       "    </tr>\n",
       "    <tr>\n",
       "      <th>2</th>\n",
       "      <td>Italy</td>\n",
       "      <td>143626</td>\n",
       "      <td>0</td>\n",
       "      <td>18279</td>\n",
       "      <td>0</td>\n",
       "      <td>28470</td>\n",
       "      <td>0</td>\n",
       "      <td>96877</td>\n",
       "      <td>3605</td>\n",
       "      <td>853369</td>\n",
       "      <td>12.7</td>\n",
       "      <td>19.8</td>\n",
       "    </tr>\n",
       "    <tr>\n",
       "      <th>3</th>\n",
       "      <td>Germany</td>\n",
       "      <td>118235</td>\n",
       "      <td>0</td>\n",
       "      <td>2607</td>\n",
       "      <td>0</td>\n",
       "      <td>52407</td>\n",
       "      <td>0</td>\n",
       "      <td>63221</td>\n",
       "      <td>4895</td>\n",
       "      <td>1317887</td>\n",
       "      <td>2.2</td>\n",
       "      <td>44.3</td>\n",
       "    </tr>\n",
       "    <tr>\n",
       "      <th>4</th>\n",
       "      <td>France</td>\n",
       "      <td>117749</td>\n",
       "      <td>0</td>\n",
       "      <td>12210</td>\n",
       "      <td>0</td>\n",
       "      <td>23206</td>\n",
       "      <td>0</td>\n",
       "      <td>82333</td>\n",
       "      <td>7066</td>\n",
       "      <td>333807</td>\n",
       "      <td>10.4</td>\n",
       "      <td>19.7</td>\n",
       "    </tr>\n",
       "  </tbody>\n",
       "</table>\n",
       "</div>"
      ],
      "text/plain": [
       "       countries  infected  infected_today  deaths  deaths_today  recovered  \\\n",
       "0  United States    469369            2400   16709            73      25937   \n",
       "1          Spain    157022            3800   15843           396      55668   \n",
       "2          Italy    143626               0   18279             0      28470   \n",
       "3        Germany    118235               0    2607             0      52407   \n",
       "4         France    117749               0   12210             0      23206   \n",
       "\n",
       "   recovered_today  active  critical    tests  death_rate  recovery_rate  \n",
       "0              621  426723     10011  2379512         3.6            5.5  \n",
       "1             3503   85511      7371   355000        10.1           35.5  \n",
       "2                0   96877      3605   853369        12.7           19.8  \n",
       "3                0   63221      4895  1317887         2.2           44.3  \n",
       "4                0   82333      7066   333807        10.4           19.7  "
      ]
     },
     "execution_count": 30,
     "metadata": {},
     "output_type": "execute_result"
    }
   ],
   "source": [
    "df = pd.read_csv(group3_path + '\\\\'+ covid_april[10])\n",
    "df.head()"
   ]
  },
  {
   "cell_type": "code",
   "execution_count": 31,
   "metadata": {},
   "outputs": [
    {
     "data": {
      "text/plain": [
       "countries           object\n",
       "infected             int64\n",
       "infected_today       int64\n",
       "deaths               int64\n",
       "deaths_today         int64\n",
       "recovered            int64\n",
       "recovered_today      int64\n",
       "active               int64\n",
       "critical             int64\n",
       "tests                int64\n",
       "death_rate         float64\n",
       "recovery_rate      float64\n",
       "dtype: object"
      ]
     },
     "execution_count": 31,
     "metadata": {},
     "output_type": "execute_result"
    }
   ],
   "source": [
    "df.dtypes"
   ]
  },
  {
   "cell_type": "markdown",
   "metadata": {},
   "source": [
    "#### DATA CLEANING\n",
    "We can see that the Data Frame Structure is different from Group 2 data structure, so we will have to go through a similar Data Cleaning.\n",
    "<br> We also need to Note that not all the files have infected today column so, it will be better for us to use infected column since it is dorminant in all files."
   ]
  },
  {
   "cell_type": "code",
   "execution_count": 32,
   "metadata": {},
   "outputs": [],
   "source": [
    "def DataFrame_Extraction(datasets, country, source):\n",
    "    '''\n",
    "    This function accepts\n",
    "    datasets : A list of the April Covid data captured at 23pm+\n",
    "    country : The country of Interest which is either United States of Geremany\n",
    "    source : The path of the directory where the datasets are stored\n",
    "    \n",
    "    and,\n",
    "    Returns:\n",
    "    A Concatenated DataFrame of all the DataFrame with Clean data\n",
    "    \n",
    "    '''\n",
    "    global country_record\n",
    "    \n",
    "    country_record = []\n",
    "    path = source + '\\\\'\n",
    "    \n",
    "    for datum in datasets:\n",
    "        #Reading the csv file\n",
    "        df = pd.read_csv(path + datum)\n",
    "        #converting the Column names to lower case and also replacing spaces with '_'\n",
    "        df.columns = [i.lower().replace(' ', '_') for i in df.columns]\n",
    "        #selecting the Country of Choice\n",
    "        df = df[df['countries'] == country]\n",
    "        \n",
    "        df = df[['countries', 'infected']]\n",
    "        #creating a date column from date specified in the csv file name\n",
    "        df['date'] = datum.split()[0].split('_', 3)[-1]\n",
    "        country_record.append(df)\n",
    "        \n",
    "    #Concatenating the data frames, reseting the index and also dropping previous indexing\n",
    "    c_df = pd.concat(country_record).reset_index(drop = True)\n",
    "    \n",
    "    #Seting the date column to be the index\n",
    "    c_df = c_df.set_index('date')\n",
    "                                         \n",
    "    return c_df"
   ]
  },
  {
   "cell_type": "markdown",
   "metadata": {},
   "source": [
    "##### How many cases did Italy and Russia each record in April?"
   ]
  },
  {
   "cell_type": "markdown",
   "metadata": {},
   "source": [
    "To Answer this Task Question, we will follow similar approach as that of Task 2 by;\n",
    "<br> Creating a DataFrame and finding the Max and Minimum value of Infected Individuals to determine the number of Covid cases recorded in Italy and Russia."
   ]
  },
  {
   "cell_type": "code",
   "execution_count": 33,
   "metadata": {},
   "outputs": [],
   "source": [
    "#ITALY DataFrame\n",
    "IT = DataFrame_Extraction(datasets = covid_april, country = 'Italy', source = group3_path)\n"
   ]
  },
  {
   "cell_type": "code",
   "execution_count": 34,
   "metadata": {},
   "outputs": [],
   "source": [
    "#RUSSIA DataFrame\n",
    "RS = DataFrame_Extraction(datasets = covid_april, country = 'Russia', source = group3_path)"
   ]
  },
  {
   "cell_type": "code",
   "execution_count": 35,
   "metadata": {},
   "outputs": [
    {
     "data": {
      "text/html": [
       "<div>\n",
       "<style scoped>\n",
       "    .dataframe tbody tr th:only-of-type {\n",
       "        vertical-align: middle;\n",
       "    }\n",
       "\n",
       "    .dataframe tbody tr th {\n",
       "        vertical-align: top;\n",
       "    }\n",
       "\n",
       "    .dataframe thead th {\n",
       "        text-align: right;\n",
       "    }\n",
       "</style>\n",
       "<table border=\"1\" class=\"dataframe\">\n",
       "  <thead>\n",
       "    <tr style=\"text-align: right;\">\n",
       "      <th></th>\n",
       "      <th>countries</th>\n",
       "      <th>infected</th>\n",
       "    </tr>\n",
       "    <tr>\n",
       "      <th>date</th>\n",
       "      <th></th>\n",
       "      <th></th>\n",
       "    </tr>\n",
       "  </thead>\n",
       "  <tbody>\n",
       "    <tr>\n",
       "      <th>03-Apr-2020</th>\n",
       "      <td>Italy</td>\n",
       "      <td>115242</td>\n",
       "    </tr>\n",
       "    <tr>\n",
       "      <th>04-Apr-2020</th>\n",
       "      <td>Italy</td>\n",
       "      <td>119827</td>\n",
       "    </tr>\n",
       "    <tr>\n",
       "      <th>05-Apr-2020</th>\n",
       "      <td>Italy</td>\n",
       "      <td>124632</td>\n",
       "    </tr>\n",
       "    <tr>\n",
       "      <th>05-Apr-2020</th>\n",
       "      <td>Italy</td>\n",
       "      <td>124632</td>\n",
       "    </tr>\n",
       "    <tr>\n",
       "      <th>07-Apr-2020</th>\n",
       "      <td>Italy</td>\n",
       "      <td>132547</td>\n",
       "    </tr>\n",
       "  </tbody>\n",
       "</table>\n",
       "</div>"
      ],
      "text/plain": [
       "            countries  infected\n",
       "date                           \n",
       "03-Apr-2020     Italy    115242\n",
       "04-Apr-2020     Italy    119827\n",
       "05-Apr-2020     Italy    124632\n",
       "05-Apr-2020     Italy    124632\n",
       "07-Apr-2020     Italy    132547"
      ]
     },
     "execution_count": 35,
     "metadata": {},
     "output_type": "execute_result"
    }
   ],
   "source": [
    "IT.head()"
   ]
  },
  {
   "cell_type": "code",
   "execution_count": 36,
   "metadata": {},
   "outputs": [
    {
     "data": {
      "text/html": [
       "<div>\n",
       "<style scoped>\n",
       "    .dataframe tbody tr th:only-of-type {\n",
       "        vertical-align: middle;\n",
       "    }\n",
       "\n",
       "    .dataframe tbody tr th {\n",
       "        vertical-align: top;\n",
       "    }\n",
       "\n",
       "    .dataframe thead th {\n",
       "        text-align: right;\n",
       "    }\n",
       "</style>\n",
       "<table border=\"1\" class=\"dataframe\">\n",
       "  <thead>\n",
       "    <tr style=\"text-align: right;\">\n",
       "      <th></th>\n",
       "      <th>countries</th>\n",
       "      <th>infected</th>\n",
       "    </tr>\n",
       "    <tr>\n",
       "      <th>date</th>\n",
       "      <th></th>\n",
       "      <th></th>\n",
       "    </tr>\n",
       "  </thead>\n",
       "  <tbody>\n",
       "    <tr>\n",
       "      <th>03-Apr-2020</th>\n",
       "      <td>Russia</td>\n",
       "      <td>3548</td>\n",
       "    </tr>\n",
       "    <tr>\n",
       "      <th>04-Apr-2020</th>\n",
       "      <td>Russia</td>\n",
       "      <td>4149</td>\n",
       "    </tr>\n",
       "    <tr>\n",
       "      <th>05-Apr-2020</th>\n",
       "      <td>Russia</td>\n",
       "      <td>4731</td>\n",
       "    </tr>\n",
       "    <tr>\n",
       "      <th>05-Apr-2020</th>\n",
       "      <td>Russia</td>\n",
       "      <td>4731</td>\n",
       "    </tr>\n",
       "    <tr>\n",
       "      <th>07-Apr-2020</th>\n",
       "      <td>Russia</td>\n",
       "      <td>7497</td>\n",
       "    </tr>\n",
       "  </tbody>\n",
       "</table>\n",
       "</div>"
      ],
      "text/plain": [
       "            countries  infected\n",
       "date                           \n",
       "03-Apr-2020    Russia      3548\n",
       "04-Apr-2020    Russia      4149\n",
       "05-Apr-2020    Russia      4731\n",
       "05-Apr-2020    Russia      4731\n",
       "07-Apr-2020    Russia      7497"
      ]
     },
     "execution_count": 36,
     "metadata": {},
     "output_type": "execute_result"
    }
   ],
   "source": [
    "RS.head()"
   ]
  },
  {
   "cell_type": "code",
   "execution_count": 37,
   "metadata": {},
   "outputs": [
    {
     "name": "stdout",
     "output_type": "stream",
     "text": [
      "Total Covid Cases Recorded in ITALY for the Month of April is 88,349\n",
      "Total Covid Cases Recorded in RUSSIA for the Month of April is 102,950\n"
     ]
    }
   ],
   "source": [
    "#Calculating the difference between the Highest infected column since the values are cummulative\n",
    "IT_April_cases = IT['infected'].max() - IT['infected'].min()\n",
    "RS_April_cases = RS['infected'].max() - RS['infected'].min()\n",
    "print(f'Total Covid Cases Recorded in ITALY for the Month of April is {IT_April_cases:,}')\n",
    "print(f'Total Covid Cases Recorded in RUSSIA for the Month of April is {RS_April_cases:,}')"
   ]
  },
  {
   "cell_type": "code",
   "execution_count": null,
   "metadata": {},
   "outputs": [],
   "source": []
  }
 ],
 "metadata": {
  "kernelspec": {
   "display_name": "Python 3",
   "language": "python",
   "name": "python3"
  },
  "language_info": {
   "codemirror_mode": {
    "name": "ipython",
    "version": 3
   },
   "file_extension": ".py",
   "mimetype": "text/x-python",
   "name": "python",
   "nbconvert_exporter": "python",
   "pygments_lexer": "ipython3",
   "version": "3.8.3"
  }
 },
 "nbformat": 4,
 "nbformat_minor": 4
}
